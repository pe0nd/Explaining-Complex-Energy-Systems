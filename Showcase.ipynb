{
 "cells": [
  {
   "cell_type": "code",
   "execution_count": 1,
   "metadata": {
    "collapsed": true
   },
   "outputs": [],
   "source": [
    "import cairo\n",
    "from IPython.display import Image, display\n",
    "from io import BytesIO\n",
    "\n",
    "def disp(draw_func):\n",
    "    surface = cairo.ImageSurface(cairo.FORMAT_ARGB32, 200, 200)\n",
    "    ctx = cairo.Context(surface)\n",
    "    draw_func(ctx, 200, 200)\n",
    "    with BytesIO() as fileobj:\n",
    "        surface.write_to_png(fileobj)\n",
    "        display(Image(fileobj.getvalue(), width=200))"
   ]
  },
  {
   "cell_type": "code",
   "execution_count": 2,
   "outputs": [
    {
     "data": {
      "image/png": "[encoded data removed]",
      "text/plain": "<IPython.core.display.Image object>"
     },
     "metadata": {
      "image/png": {
       "width": 200
      }
     },
     "output_type": "display_data"
    }
   ],
   "source": [
    "@disp\n",
    "def draw(cr, width, height):\n",
    "    cr.scale(width, height)\n",
    "    cr.set_line_width(0.04)\n",
    "\n",
    "    x, y = 0.1, 0.5\n",
    "    x1, y1 = 0.4, 0.9\n",
    "    x2, y2 = 0.6, 0.1\n",
    "    x3, y3 = 0.9, 0.5\n",
    "\n",
    "    cr.move_to(x, y)\n",
    "    cr.curve_to(x1, y1, x2, y2, x3, y3)\n",
    "\n",
    "    cr.stroke()\n",
    "\n",
    "    cr.set_source_rgba(1, 0.2, 0.2, 0.6)\n",
    "    cr.set_line_width(0.03)\n",
    "    cr.move_to(x, y)\n",
    "    cr.line_to(x1, y1)\n",
    "    cr.move_to(x2, y2)\n",
    "    cr.line_to(x3, y3)\n",
    "    cr.stroke()"
   ],
   "metadata": {
    "collapsed": false,
    "pycharm": {
     "name": "#%%\n"
    }
   }
  },
  {
   "cell_type": "code",
   "execution_count": 6,
   "outputs": [
    {
     "data": {
      "text/plain": "<igraph.drawing.Plot at 0x1c21c7593a0>",
      "image/svg+xml": "<?xml version=\"1.0\" encoding=\"UTF-8\"?>\n<svg xmlns=\"http://www.w3.org/2000/svg\" xmlns:xlink=\"http://www.w3.org/1999/xlink\" width=\"300pt\" height=\"300pt\" viewBox=\"0 0 300 300\" version=\"1.1\">\n<defs>\n<g>\n<symbol overflow=\"visible\" id=\"glyph0-0\">\n<path style=\"stroke:none;\" d=\"M 1.75 0 L 1.75 -8.75 L 8.75 -8.75 L 8.75 0 Z M 1.96875 -0.21875 L 8.53125 -0.21875 L 8.53125 -8.53125 L 1.96875 -8.53125 Z M 1.96875 -0.21875 \"/>\n</symbol>\n<symbol overflow=\"visible\" id=\"glyph0-1\">\n<path style=\"stroke:none;\" d=\"M 0.0625 0 L 3.9375 -5.222656 L 0.519531 -10.023438 L 2.097656 -10.023438 L 3.917969 -7.453125 C 4.292969 -6.917969 4.5625 -6.503906 4.722656 -6.21875 C 4.945313 -6.578125 5.207031 -6.960938 5.515625 -7.363281 L 7.53125 -10.023438 L 8.976563 -10.023438 L 5.453125 -5.296875 L 9.25 0 L 7.609375 0 L 5.085938 -3.574219 C 4.945313 -3.777344 4.796875 -4 4.648438 -4.246094 C 4.421875 -3.878906 4.265625 -3.628906 4.171875 -3.492188 L 1.65625 0 Z M 0.0625 0 \"/>\n</symbol>\n<symbol overflow=\"visible\" id=\"glyph0-2\">\n<path style=\"stroke:none;\" d=\"M 5.214844 0 L 3.984375 0 L 3.984375 -7.839844 C 3.6875 -7.558594 3.296875 -7.273438 2.816406 -6.992188 C 2.335938 -6.707031 1.90625 -6.496094 1.523438 -6.359375 L 1.523438 -7.546875 C 2.210938 -7.867188 2.8125 -8.257813 3.328125 -8.722656 C 3.84375 -9.179688 4.207031 -9.625 4.421875 -10.0625 L 5.214844 -10.0625 Z M 5.214844 0 \"/>\n</symbol>\n<symbol overflow=\"visible\" id=\"glyph0-3\">\n<path style=\"stroke:none;\" d=\"M 7.046875 -1.183594 L 7.046875 0 L 0.421875 0 C 0.414063 -0.296875 0.460938 -0.582031 0.566406 -0.855469 C 0.734375 -1.304688 1.003906 -1.746094 1.375 -2.1875 C 1.746094 -2.621094 2.285156 -3.128906 2.988281 -3.703125 C 4.074219 -4.597656 4.808594 -5.304688 5.195313 -5.828125 C 5.574219 -6.347656 5.765625 -6.839844 5.769531 -7.308594 C 5.765625 -7.792969 5.589844 -8.203125 5.246094 -8.539063 C 4.894531 -8.871094 4.441406 -9.039063 3.882813 -9.042969 C 3.285156 -9.039063 2.8125 -8.863281 2.460938 -8.507813 C 2.105469 -8.152344 1.925781 -7.660156 1.921875 -7.035156 L 0.65625 -7.164063 C 0.742188 -8.105469 1.066406 -8.824219 1.632813 -9.320313 C 2.195313 -9.8125 2.953125 -10.058594 3.910156 -10.0625 C 4.867188 -10.058594 5.628906 -9.792969 6.191406 -9.261719 C 6.75 -8.726563 7.03125 -8.066406 7.035156 -7.28125 C 7.03125 -6.878906 6.949219 -6.484375 6.789063 -6.097656 C 6.621094 -5.707031 6.347656 -5.296875 5.96875 -4.871094 C 5.585938 -4.441406 4.953125 -3.855469 4.074219 -3.109375 C 3.332031 -2.488281 2.859375 -2.066406 2.652344 -1.847656 C 2.4375 -1.621094 2.265625 -1.402344 2.132813 -1.183594 Z M 7.046875 -1.183594 \"/>\n</symbol>\n<symbol overflow=\"visible\" id=\"glyph0-4\">\n<path style=\"stroke:none;\" d=\"M 3.902344 0 L 3.902344 -4.246094 L 0.0390625 -10.023438 L 1.65625 -10.023438 L 3.628906 -7 C 3.988281 -6.433594 4.328125 -5.867188 4.648438 -5.304688 C 4.945313 -5.824219 5.3125 -6.414063 5.742188 -7.074219 L 7.683594 -10.023438 L 9.226563 -10.023438 L 5.230469 -4.246094 L 5.230469 0 Z M 3.902344 0 \"/>\n</symbol>\n<symbol overflow=\"visible\" id=\"glyph0-5\">\n<path style=\"stroke:none;\" d=\"M 0.585938 -2.644531 L 1.820313 -2.808594 C 1.957031 -2.109375 2.195313 -1.609375 2.539063 -1.300781 C 2.875 -0.992188 3.289063 -0.835938 3.78125 -0.839844 C 4.355469 -0.835938 4.84375 -1.039063 5.246094 -1.441406 C 5.640625 -1.839844 5.839844 -2.335938 5.84375 -2.933594 C 5.839844 -3.496094 5.65625 -3.960938 5.289063 -4.332031 C 4.917969 -4.695313 4.449219 -4.878906 3.882813 -4.882813 C 3.648438 -4.878906 3.359375 -4.832031 3.015625 -4.742188 L 3.152344 -5.824219 C 3.230469 -5.816406 3.296875 -5.8125 3.351563 -5.8125 C 3.875 -5.8125 4.34375 -5.949219 4.765625 -6.222656 C 5.179688 -6.496094 5.390625 -6.914063 5.394531 -7.484375 C 5.390625 -7.933594 5.238281 -8.308594 4.933594 -8.605469 C 4.628906 -8.898438 4.234375 -9.046875 3.753906 -9.050781 C 3.273438 -9.046875 2.875 -8.894531 2.554688 -8.597656 C 2.234375 -8.292969 2.027344 -7.84375 1.941406 -7.246094 L 0.710938 -7.464844 C 0.859375 -8.289063 1.203125 -8.925781 1.734375 -9.382813 C 2.265625 -9.832031 2.929688 -10.058594 3.726563 -10.0625 C 4.273438 -10.058594 4.773438 -9.941406 5.234375 -9.710938 C 5.691406 -9.472656 6.042969 -9.152344 6.289063 -8.75 C 6.53125 -8.339844 6.65625 -7.910156 6.65625 -7.457031 C 6.65625 -7.023438 6.539063 -6.628906 6.308594 -6.273438 C 6.074219 -5.917969 5.730469 -5.636719 5.277344 -5.429688 C 5.867188 -5.289063 6.328125 -5.003906 6.65625 -4.574219 C 6.984375 -4.140625 7.148438 -3.601563 7.148438 -2.960938 C 7.148438 -2.082031 6.828125 -1.339844 6.191406 -0.734375 C 5.550781 -0.125 4.746094 0.175781 3.773438 0.179688 C 2.890625 0.175781 2.160156 -0.0820313 1.582031 -0.605469 C 1 -1.128906 0.667969 -1.808594 0.585938 -2.644531 Z M 0.585938 -2.644531 \"/>\n</symbol>\n</g>\n</defs>\n<g id=\"surface2\">\n<rect x=\"0\" y=\"0\" width=\"300\" height=\"300\" style=\"fill:rgb(100%,100%,100%);fill-opacity:1;stroke:none;\"/>\n<path style=\"fill:none;stroke-width:1;stroke-linecap:butt;stroke-linejoin:miter;stroke:rgb(26.666667%,26.666667%,26.666667%);stroke-opacity:1;stroke-miterlimit:10;\" d=\"M 197.253906 139.726563 L 151.257813 211.054688 \"/>\n<path style=\" stroke:none;fill-rule:nonzero;fill:rgb(26.666667%,26.666667%,26.666667%);fill-opacity:1;\" d=\"M 143.527344 223.042969 L 147.363281 208.542969 L 155.152344 213.566406 L 143.527344 223.042969 \"/>\n<path style=\"fill:none;stroke-width:1;stroke-linecap:butt;stroke-linejoin:miter;stroke:rgb(26.666667%,26.666667%,26.666667%);stroke-opacity:1;stroke-miterlimit:10;\" d=\"M 197.253906 139.726563 L 267.671875 259.101563 \"/>\n<path style=\" stroke:none;fill-rule:nonzero;fill:rgb(26.666667%,26.666667%,26.666667%);fill-opacity:1;\" d=\"M 274.917969 271.386719 L 263.679688 261.453125 L 271.664063 256.746094 L 274.917969 271.386719 \"/>\n<path style=\"fill:none;stroke-width:1;stroke-linecap:butt;stroke-linejoin:miter;stroke:rgb(26.666667%,26.666667%,26.666667%);stroke-opacity:1;stroke-miterlimit:10;\" d=\"M 197.253906 139.726563 L 42.933594 193.105469 \"/>\n<path style=\" stroke:none;fill-rule:nonzero;fill:rgb(26.666667%,26.666667%,26.666667%);fill-opacity:1;\" d=\"M 29.449219 197.769531 L 41.417969 188.722656 L 44.449219 197.484375 L 29.449219 197.769531 \"/>\n<path style=\"fill:none;stroke-width:1;stroke-linecap:butt;stroke-linejoin:miter;stroke:rgb(26.666667%,26.666667%,26.666667%);stroke-opacity:1;stroke-miterlimit:10;\" d=\"M 197.253906 139.726563 L 147.691406 41.65625 \"/>\n<path style=\" stroke:none;fill-rule:nonzero;fill:rgb(26.666667%,26.666667%,26.666667%);fill-opacity:1;\" d=\"M 141.253906 28.925781 L 151.828125 39.566406 L 143.550781 43.746094 L 141.253906 28.925781 \"/>\n<path style=\"fill:none;stroke-width:1;stroke-linecap:butt;stroke-linejoin:miter;stroke:rgb(26.666667%,26.666667%,26.666667%);stroke-opacity:1;stroke-miterlimit:10;\" d=\"M 138.105469 231.449219 L 257.039063 272.144531 \"/>\n<path style=\" stroke:none;fill-rule:nonzero;fill:rgb(26.666667%,26.666667%,26.666667%);fill-opacity:1;\" d=\"M 270.539063 276.761719 L 255.539063 276.53125 L 258.542969 267.757813 L 270.539063 276.761719 \"/>\n<path style=\"fill:none;stroke-width:1;stroke-linecap:butt;stroke-linejoin:miter;stroke:rgb(26.666667%,26.666667%,26.666667%);stroke-opacity:1;stroke-miterlimit:10;\" d=\"M 138.105469 231.449219 L 43.5 207.085938 \"/>\n<path style=\" stroke:none;fill-rule:nonzero;fill:rgb(26.666667%,26.666667%,26.666667%);fill-opacity:1;\" d=\"M 29.683594 203.53125 L 44.65625 202.597656 L 42.34375 211.578125 L 29.683594 203.53125 \"/>\n<path style=\"fill:none;stroke-width:1;stroke-linecap:butt;stroke-linejoin:miter;stroke:rgb(26.666667%,26.666667%,26.666667%);stroke-opacity:1;stroke-miterlimit:10;\" d=\"M 138.105469 231.449219 L 136.902344 44.265625 \"/>\n<path style=\" stroke:none;fill-rule:nonzero;fill:rgb(26.666667%,26.666667%,26.666667%);fill-opacity:1;\" d=\"M 136.808594 30 L 141.535156 44.234375 L 132.265625 44.296875 L 136.808594 30 \"/>\n<path style=\"fill-rule:nonzero;fill:rgb(100%,0%,0%);fill-opacity:1;stroke-width:1;stroke-linecap:butt;stroke-linejoin:miter;stroke:rgb(0%,0%,0%);stroke-opacity:1;stroke-miterlimit:10;\" d=\"M 207.253906 139.726563 C 207.253906 145.25 202.777344 149.726563 197.253906 149.726563 C 191.730469 149.726563 187.253906 145.25 187.253906 139.726563 C 187.253906 134.203125 191.730469 129.726563 197.253906 129.726563 C 202.777344 129.726563 207.253906 134.203125 207.253906 139.726563 \"/>\n<path style=\"fill-rule:nonzero;fill:rgb(100%,0%,0%);fill-opacity:1;stroke-width:1;stroke-linecap:butt;stroke-linejoin:miter;stroke:rgb(0%,0%,0%);stroke-opacity:1;stroke-miterlimit:10;\" d=\"M 148.105469 231.449219 C 148.105469 236.96875 143.628906 241.449219 138.105469 241.449219 C 132.582031 241.449219 128.105469 236.96875 128.105469 231.449219 C 128.105469 225.925781 132.582031 221.449219 138.105469 221.449219 C 143.628906 221.449219 148.105469 225.925781 148.105469 231.449219 \"/>\n<path style=\"fill-rule:nonzero;fill:rgb(100%,0%,0%);fill-opacity:1;stroke-width:1;stroke-linecap:butt;stroke-linejoin:miter;stroke:rgb(0%,0%,0%);stroke-opacity:1;stroke-miterlimit:10;\" d=\"M 290 280 C 290 285.523438 285.523438 290 280 290 C 274.476563 290 270 285.523438 270 280 C 270 274.476563 274.476563 270 280 270 C 285.523438 270 290 274.476563 290 280 \"/>\n<path style=\"fill-rule:nonzero;fill:rgb(100%,0%,0%);fill-opacity:1;stroke-width:1;stroke-linecap:butt;stroke-linejoin:miter;stroke:rgb(0%,0%,0%);stroke-opacity:1;stroke-miterlimit:10;\" d=\"M 30 201.035156 C 30 206.558594 25.523438 211.035156 20 211.035156 C 14.476563 211.035156 10 206.558594 10 201.035156 C 10 195.515625 14.476563 191.035156 20 191.035156 C 25.523438 191.035156 30 195.515625 30 201.035156 \"/>\n<path style=\"fill-rule:nonzero;fill:rgb(100%,0%,0%);fill-opacity:1;stroke-width:1;stroke-linecap:butt;stroke-linejoin:miter;stroke:rgb(0%,0%,0%);stroke-opacity:1;stroke-miterlimit:10;\" d=\"M 146.746094 20 C 146.746094 25.523438 142.265625 30 136.746094 30 C 131.222656 30 126.746094 25.523438 126.746094 20 C 126.746094 14.476563 131.222656 10 136.746094 10 C 142.265625 10 146.746094 14.476563 146.746094 20 \"/>\n<g style=\"fill:rgb(0%,0%,0%);fill-opacity:1;\">\n  <use xlink:href=\"#glyph0-1\" x=\"189.945313\" y=\"146.257813\"/>\n  <use xlink:href=\"#glyph0-2\" x=\"199.283203\" y=\"146.257813\"/>\n</g>\n<g style=\"fill:rgb(0%,0%,0%);fill-opacity:1;\">\n  <use xlink:href=\"#glyph0-1\" x=\"129.882813\" y=\"237.980469\"/>\n  <use xlink:href=\"#glyph0-3\" x=\"139.220703\" y=\"237.980469\"/>\n</g>\n<g style=\"fill:rgb(0%,0%,0%);fill-opacity:1;\">\n  <use xlink:href=\"#glyph0-4\" x=\"272.703125\" y=\"286.53125\"/>\n  <use xlink:href=\"#glyph0-2\" x=\"282.041016\" y=\"286.53125\"/>\n</g>\n<g style=\"fill:rgb(0%,0%,0%);fill-opacity:1;\">\n  <use xlink:href=\"#glyph0-4\" x=\"11.785156\" y=\"207.566406\"/>\n  <use xlink:href=\"#glyph0-3\" x=\"21.123047\" y=\"207.566406\"/>\n</g>\n<g style=\"fill:rgb(0%,0%,0%);fill-opacity:1;\">\n  <use xlink:href=\"#glyph0-4\" x=\"128.480469\" y=\"26.53125\"/>\n  <use xlink:href=\"#glyph0-5\" x=\"137.818359\" y=\"26.53125\"/>\n</g>\n</g>\n</svg>\n"
     },
     "execution_count": 6,
     "metadata": {
      "image/svg+xml": {
       "isolated": true
      }
     },
     "output_type": "execute_result"
    }
   ],
   "source": [
    "import igraph as ig\n",
    "\n",
    "g1 = ig.Graph(directed=True)\n",
    "g1.add_vertices([\"X1\",\"X2\",\"Y1\",\"Y2\",\"Y3\"])\n",
    "g1.add_edges([(0,1),(0,2),(0,3),(0,4),(1,2),(1,3),(1,4)])\n",
    "g1.vs[\"label\"]=g1.vs[\"name\"]\n",
    "\n",
    "g2 = ig.Graph(directed=True)\n",
    "g2.add_vertices([\"X1\",\"X2\",\"Y1\",\"Y2\",\"Y3\"])\n",
    "g2.add_edges([(0,1),(0,2),(0,3),(0,4),(1,2),(1,3),(1,4),(2,3)])\n",
    "g2.vs[\"label\"]=g1.vs[\"name\"]\n",
    "\n",
    "g3 = ig.Graph(directed=True)\n",
    "g3.add_vertices([\"X1\",\"X2\",\"Y1\",\"Y2\",\"Y3\"])\n",
    "g3.add_edges([(1,0),(0,2),(0,3),(0,4),(1,2),(1,3),(1,4)])\n",
    "g3.vs[\"label\"]=g1.vs[\"name\"]\n",
    "\n",
    "\n",
    "ig.plot(g1, layout=g1.layout(\"kk\"), bbox=(300,300), margin=20)\n",
    "#ig.plot(g2, layout=g1.layout(\"kk\"), bbox=(300,300), margin=20)\n",
    "#ig.plot(g3, layout=g1.layout(\"kk\"), bbox=(300,300), margin=20)\n"
   ],
   "metadata": {
    "collapsed": false,
    "pycharm": {
     "name": "#%%\n"
    }
   }
  },
  {
   "cell_type": "code",
   "execution_count": 5,
   "outputs": [
    {
     "data": {
      "text/plain": "array([[ True,  True,  True,  True,  True],\n       [False,  True,  True,  True,  True],\n       [False, False,  True, False, False],\n       [False, False, False,  True, False],\n       [False, False, False, False,  True]])"
     },
     "execution_count": 5,
     "metadata": {},
     "output_type": "execute_result"
    }
   ],
   "source": [
    "import numpy as np\n",
    "def get_path_matrix(A):\n",
    "    A=np.array(A)\n",
    "    p=A.shape[0]\n",
    "    A_power=np.zeros((p,p))\n",
    "    for i in range(p):\n",
    "        A_power= A_power + np.linalg.matrix_power(A,(i+1))\n",
    "\n",
    "    return np.logical_or(np.greater(A_power, np.zeros((p,p))),np.eye(p).astype(bool))\n",
    "\n",
    "g1 = ig.Graph(directed=True)\n",
    "g1.add_vertices([\"X1\",\"X2\",\"Y1\",\"Y2\",\"Y3\"])\n",
    "g1.add_edges([(0,1),(0,2),(0,3),(0,4),(1,2),(1,3),(1,4)])\n",
    "\n",
    "A=g1.get_adjacency()\n",
    "A=np.array(A.data)\n",
    "get_path_matrix(A)"
   ],
   "metadata": {
    "collapsed": false,
    "pycharm": {
     "name": "#%% SID\n"
    }
   }
  },
  {
   "cell_type": "code",
   "execution_count": null,
   "outputs": [],
   "source": [
    "def get_sid(G,H):\n",
    "    import numpy as np\n",
    "    p=G.shape[0]\n",
    "    incorrectCausalEffects = np.zeros((p,p))\n",
    "    pathMatrix = get_path_matrix(G)\n",
    "    for i in range(p):\n",
    "        paG= G[:,i]==1\n",
    "        paH= H[:,i]==1\n",
    "        G_tilde= 0 # TODO\n",
    "        pathMatrix2 = get_path_matrix(G_tilde)\n",
    "        rechableOnNonDirectedPath = rondp(G,i,paH,pathMatrix,pathMatrix2)\n",
    "        for j in (j for j in range(p) if j!=i):\n",
    "            ijGNull=False\n",
    "            ijHNull=False\n",
    "            finished=False\n",
    "            if pathMatrix[i,j]==0 :\n",
    "                ijGNull =True  # G predicts the causal effect to be zero\n",
    "            if paH[j]:\n",
    "                ijHNull = True  # H predicts the causal effect to be zero\n",
    "            if (not ijGNull) and ijHNull:\n",
    "                incorrectCausalEffects[i,j]=1\n",
    "                finished=True # one mistake if only H predicts zero\n",
    "            if ijGNull and ijHNull or paG==paH:\n",
    "                finished= True   # no mistakes if both predictions coincide\n",
    "            if not finished:\n",
    "                childrenOnDirectedPath = G[i,:]==1 # TODO\n",
    "                if np.sum(pathMatrix[childrenOnDirectedPath,paH])>0:\n",
    "                    incorrectCausalEffects[i,j]=1\n",
    "                if rechableOnNonDirectedPath[j]==1:\n",
    "                    incorrectCausalEffects[i,j]=1\n",
    "\n",
    "    return np.sum(incorrectCausalEffects)\n",
    "\n",
    "\n",
    "def rondp(G,i,paH, pathMatrix, pathMatrix2):\n",
    "    import numpy as np\n",
    "    p=G.shape[0]\n",
    "    Pai= G[:,i]==1\n",
    "    Chi = G[i,:]==1\n",
    "    toCheck = Pai +p and Chi\n",
    "    rechableNodes = Pai and Chi\n",
    "    reachableOnNonDirectedPath = Pai + p\n",
    "    G[i,Chi]=0\n",
    "    G[i,Pai]=0\n",
    "    for currentNode in toCheck:\n",
    "        PacN = G[:,currentNode]==1\n",
    "        PacN2 = PacN"
   ],
   "metadata": {
    "collapsed": false,
    "pycharm": {
     "name": "#%%\n"
    }
   }
  },
  {
   "cell_type": "code",
   "execution_count": 2,
   "outputs": [
    {
     "data": {
      "text/plain": "(gum::BayesNet<double>@0000015AC4B02440) BN{nodes: 4, arcs: 4, domainSize: 16, dim: 18}",
      "text/html": "<svg xmlns=\"http://www.w3.org/2000/svg\" xmlns:xlink=\"http://www.w3.org/1999/xlink\" width=\"134pt\" height=\"188pt\" viewBox=\"0.00 0.00 134.00 188.00\">\n<g id=\"graph0\" class=\"graph\" transform=\"scale(1 1) rotate(0) translate(4 184)\">\n<title>G</title>\n<!-- c -->\n<g id=\"node1\" class=\"node\">\n<title>c</title>\n<g id=\"a_node1\"><a xlink:title=\"(0) c\">\n<ellipse fill=\"#404040\" stroke=\"black\" cx=\"63\" cy=\"-162\" rx=\"27\" ry=\"18\"/>\n<text text-anchor=\"middle\" x=\"63\" y=\"-158.3\" font-family=\"Times New Roman,serif\" font-size=\"14.00\" fill=\"white\">c</text>\n</a>\n</g>\n</g>\n<!-- r -->\n<g id=\"node3\" class=\"node\">\n<title>r</title>\n<g id=\"a_node3\"><a xlink:title=\"(2) r\">\n<ellipse fill=\"#404040\" stroke=\"black\" cx=\"27\" cy=\"-90\" rx=\"27\" ry=\"18\"/>\n<text text-anchor=\"middle\" x=\"27\" y=\"-86.3\" font-family=\"Times New Roman,serif\" font-size=\"14.00\" fill=\"white\">r</text>\n</a>\n</g>\n</g>\n<!-- c&#45;&gt;r -->\n<g id=\"edge2\" class=\"edge\">\n<title>c-&gt;r</title>\n<g id=\"a_edge2\"><a xlink:title=\"(0, 2) : \">\n<path fill=\"none\" stroke=\"#4a4a4a\" d=\"M54.65,-144.76C50.29,-136.28 44.85,-125.71 39.96,-116.2\"/>\n<polygon fill=\"#4a4a4a\" stroke=\"#4a4a4a\" points=\"42.99,-114.44 35.3,-107.15 36.77,-117.64 42.99,-114.44\"/>\n</a>\n</g>\n</g>\n<!-- s -->\n<g id=\"node4\" class=\"node\">\n<title>s</title>\n<g id=\"a_node4\"><a xlink:title=\"(1) s\">\n<ellipse fill=\"#404040\" stroke=\"black\" cx=\"99\" cy=\"-90\" rx=\"27\" ry=\"18\"/>\n<text text-anchor=\"middle\" x=\"99\" y=\"-86.3\" font-family=\"Times New Roman,serif\" font-size=\"14.00\" fill=\"white\">s</text>\n</a>\n</g>\n</g>\n<!-- c&#45;&gt;s -->\n<g id=\"edge1\" class=\"edge\">\n<title>c-&gt;s</title>\n<g id=\"a_edge1\"><a xlink:title=\"(0, 1) : \">\n<path fill=\"none\" stroke=\"#4a4a4a\" d=\"M71.35,-144.76C75.71,-136.28 81.15,-125.71 86.04,-116.2\"/>\n<polygon fill=\"#4a4a4a\" stroke=\"#4a4a4a\" points=\"89.23,-117.64 90.7,-107.15 83.01,-114.44 89.23,-117.64\"/>\n</a>\n</g>\n</g>\n<!-- w -->\n<g id=\"node2\" class=\"node\">\n<title>w</title>\n<g id=\"a_node2\"><a xlink:title=\"(3) w\">\n<ellipse fill=\"#404040\" stroke=\"black\" cx=\"63\" cy=\"-18\" rx=\"27\" ry=\"18\"/>\n<text text-anchor=\"middle\" x=\"63\" y=\"-14.3\" font-family=\"Times New Roman,serif\" font-size=\"14.00\" fill=\"white\">w</text>\n</a>\n</g>\n</g>\n<!-- r&#45;&gt;w -->\n<g id=\"edge3\" class=\"edge\">\n<title>r-&gt;w</title>\n<g id=\"a_edge3\"><a xlink:title=\"(2, 3) : \">\n<path fill=\"none\" stroke=\"#4a4a4a\" d=\"M35.35,-72.76C39.71,-64.28 45.15,-53.71 50.04,-44.2\"/>\n<polygon fill=\"#4a4a4a\" stroke=\"#4a4a4a\" points=\"53.23,-45.64 54.7,-35.15 47.01,-42.44 53.23,-45.64\"/>\n</a>\n</g>\n</g>\n<!-- s&#45;&gt;w -->\n<g id=\"edge4\" class=\"edge\">\n<title>s-&gt;w</title>\n<g id=\"a_edge4\"><a xlink:title=\"(1, 3) : \">\n<path fill=\"none\" stroke=\"#4a4a4a\" d=\"M90.65,-72.76C86.29,-64.28 80.85,-53.71 75.96,-44.2\"/>\n<polygon fill=\"#4a4a4a\" stroke=\"#4a4a4a\" points=\"78.99,-42.44 71.3,-35.15 72.77,-45.64 78.99,-42.44\"/>\n</a>\n</g>\n</g>\n</g>\n</svg>"
     },
     "execution_count": 2,
     "metadata": {},
     "output_type": "execute_result"
    }
   ],
   "source": [
    "import pyAgrum as gum\n",
    "bn=gum.BayesNet(\"WaterSprinklers\")\n",
    "c=bn.add(gum.LabelizedVariable(\"c\",\"cloudy ?\",2))\n",
    "s, r, w = [ bn.add(name, 2) for name in \"srw\" ]\n",
    "for link in [(c,s),(c,r),(s,w),(r,w)]:\n",
    "    bn.addArc(*link)\n",
    "\n",
    "\n",
    "import pyAgrum.lib.notebook as gnb\n",
    "bn"
   ],
   "metadata": {
    "collapsed": false,
    "pycharm": {
     "name": "#%% PyAgrum\n"
    }
   }
  },
  {
   "cell_type": "code",
   "execution_count": 3,
   "outputs": [
    {
     "data": {
      "text/plain": "True"
     },
     "execution_count": 3,
     "metadata": {},
     "output_type": "execute_result"
    }
   ],
   "source": [
    "bn.cpt(\"c\").fillWith([0.4,0.6])\n",
    "bn.cpt(s)[:]=[ [0.5,0.5],[0.9,0.1]]\n",
    "bn.cpt(w)[0,0,:] = [1, 0] # r=0,s=0\n",
    "bn.cpt(w)[0,1,:] = [0.1, 0.9] # r=0,s=1\n",
    "bn.cpt(w)[1,0,:] = [0.1, 0.9] # r=1,s=0\n",
    "bn.cpt(w)[1,1,:] = [0.01, 0.99] # r=1,s=1\n",
    "\n",
    "bn.isIndependent(\"s\",\"r\",\"c\")"
   ],
   "metadata": {
    "collapsed": false,
    "pycharm": {
     "name": "#%%\n"
    }
   }
  },
  {
   "cell_type": "code",
   "execution_count": 4,
   "outputs": [
    {
     "data": {
      "text/plain": "<pyAgrum.pyAgrum.MarkovBlanket; proxy of <Swig Object of type 'gum::MarkovBlanket *' at 0x0000015AC6B5F060> >",
      "text/html": "<svg xmlns=\"http://www.w3.org/2000/svg\" xmlns:xlink=\"http://www.w3.org/1999/xlink\" width=\"206pt\" height=\"116pt\" viewBox=\"0.00 0.00 206.00 116.00\">\n<g id=\"graph0\" class=\"graph\" transform=\"scale(1 1) rotate(0) translate(4 112)\">\n<title>no_name</title>\n<!-- 0 -->\n<g id=\"node1\" class=\"node\">\n<title>0</title>\n<ellipse fill=\"none\" stroke=\"#4a4a4a\" cx=\"27\" cy=\"-90\" rx=\"27\" ry=\"18\"/>\n<text text-anchor=\"middle\" x=\"27\" y=\"-86.3\" font-family=\"Times New Roman,serif\" font-size=\"14.00\" fill=\"#4a4a4a\">A</text>\n</g>\n<!-- 1 -->\n<g id=\"node2\" class=\"node\">\n<title>1</title>\n<ellipse fill=\"none\" stroke=\"#4a4a4a\" cx=\"27\" cy=\"-18\" rx=\"27\" ry=\"18\"/>\n<text text-anchor=\"middle\" x=\"27\" y=\"-14.3\" font-family=\"Times New Roman,serif\" font-size=\"14.00\" fill=\"#4a4a4a\">B</text>\n</g>\n<!-- 0&#45;&gt;1 -->\n<g id=\"edge1\" class=\"edge\">\n<title>0-&gt;1</title>\n<path fill=\"none\" stroke=\"#4a4a4a\" d=\"M27,-71.7C27,-63.98 27,-54.71 27,-46.11\"/>\n<polygon fill=\"#4a4a4a\" stroke=\"#4a4a4a\" points=\"30.5,-46.1 27,-36.1 23.5,-46.1 30.5,-46.1\"/>\n</g>\n<!-- 2 -->\n<g id=\"node3\" class=\"node\">\n<title>2</title>\n<ellipse fill=\"none\" stroke=\"red\" cx=\"99\" cy=\"-90\" rx=\"27\" ry=\"18\"/>\n<text text-anchor=\"middle\" x=\"99\" y=\"-86.3\" font-family=\"Times New Roman,serif\" font-size=\"14.00\" fill=\"#4a4a4a\">C</text>\n</g>\n<!-- 2&#45;&gt;1 -->\n<g id=\"edge3\" class=\"edge\">\n<title>2-&gt;1</title>\n<path fill=\"none\" stroke=\"#4a4a4a\" d=\"M84.43,-74.83C74.25,-64.94 60.48,-51.55 48.97,-40.36\"/>\n<polygon fill=\"#4a4a4a\" stroke=\"#4a4a4a\" points=\"51.41,-37.85 41.8,-33.38 46.53,-42.87 51.41,-37.85\"/>\n</g>\n<!-- 3 -->\n<g id=\"node4\" class=\"node\">\n<title>3</title>\n<ellipse fill=\"none\" stroke=\"#4a4a4a\" cx=\"99\" cy=\"-18\" rx=\"27\" ry=\"18\"/>\n<text text-anchor=\"middle\" x=\"99\" y=\"-14.3\" font-family=\"Times New Roman,serif\" font-size=\"14.00\" fill=\"#4a4a4a\">D</text>\n</g>\n<!-- 2&#45;&gt;3 -->\n<g id=\"edge2\" class=\"edge\">\n<title>2-&gt;3</title>\n<path fill=\"none\" stroke=\"#4a4a4a\" d=\"M99,-71.7C99,-63.98 99,-54.71 99,-46.11\"/>\n<polygon fill=\"#4a4a4a\" stroke=\"#4a4a4a\" points=\"102.5,-46.1 99,-36.1 95.5,-46.1 102.5,-46.1\"/>\n</g>\n<!-- 6 -->\n<g id=\"node5\" class=\"node\">\n<title>6</title>\n<ellipse fill=\"none\" stroke=\"#4a4a4a\" cx=\"171\" cy=\"-18\" rx=\"27\" ry=\"18\"/>\n<text text-anchor=\"middle\" x=\"171\" y=\"-14.3\" font-family=\"Times New Roman,serif\" font-size=\"14.00\" fill=\"#4a4a4a\">G</text>\n</g>\n<!-- 2&#45;&gt;6 -->\n<g id=\"edge4\" class=\"edge\">\n<title>2-&gt;6</title>\n<path fill=\"none\" stroke=\"#4a4a4a\" d=\"M113.57,-74.83C123.75,-64.94 137.52,-51.55 149.03,-40.36\"/>\n<polygon fill=\"#4a4a4a\" stroke=\"#4a4a4a\" points=\"151.47,-42.87 156.2,-33.38 146.59,-37.85 151.47,-42.87\"/>\n</g>\n<!-- 7 -->\n<g id=\"node6\" class=\"node\">\n<title>7</title>\n<ellipse fill=\"none\" stroke=\"#4a4a4a\" cx=\"171\" cy=\"-90\" rx=\"27\" ry=\"18\"/>\n<text text-anchor=\"middle\" x=\"171\" y=\"-86.3\" font-family=\"Times New Roman,serif\" font-size=\"14.00\" fill=\"#4a4a4a\">H</text>\n</g>\n<!-- 7&#45;&gt;6 -->\n<g id=\"edge5\" class=\"edge\">\n<title>7-&gt;6</title>\n<path fill=\"none\" stroke=\"#4a4a4a\" d=\"M171,-71.7C171,-63.98 171,-54.71 171,-46.11\"/>\n<polygon fill=\"#4a4a4a\" stroke=\"#4a4a4a\" points=\"174.5,-46.1 171,-36.1 167.5,-46.1 174.5,-46.1\"/>\n</g>\n</g>\n</svg>"
     },
     "execution_count": 4,
     "metadata": {},
     "output_type": "execute_result"
    }
   ],
   "source": [
    "bn2=gum.fastBN(\"A->B<-C->D->E<-F<-A;C->G<-H<-I->J\")\n",
    "bn2\n",
    "gum.MarkovBlanket(bn2,\"C\")"
   ],
   "metadata": {
    "collapsed": false,
    "pycharm": {
     "name": "#%% Markov-Banket\n"
    }
   }
  },
  {
   "cell_type": "code",
   "execution_count": 5,
   "outputs": [
    {
     "data": {
      "text/plain": "(gum::MarkovNet<double>@0000015AD5115100) MN{nodes: 9, edges: 14, domainSize: 512, dim: 56}",
      "text/html": "<svg xmlns=\"http://www.w3.org/2000/svg\" xmlns:xlink=\"http://www.w3.org/1999/xlink\" width=\"360pt\" height=\"197pt\" viewBox=\"0.00 0.00 360.00 196.76\">\n<g id=\"graph0\" class=\"graph\" transform=\"scale(0.8 0.8) rotate(0) translate(4 240.78)\">\n<title>G</title>\n<!-- CAPEX -->\n<g id=\"node1\" class=\"node\">\n<title>CAPEX</title>\n<g id=\"a_node1\"><a xlink:title=\"(1) CAPEX\">\n<polygon fill=\"coral\" stroke=\"black\" points=\"151.9,-55.16 99.9,-55.16 99.9,-34.16 151.9,-34.16 151.9,-55.16\"/>\n<text text-anchor=\"middle\" x=\"125.9\" y=\"-40.96\" font-family=\"Times New Roman,serif\" font-size=\"14.00\">CAPEX</text>\n</a>\n</g>\n</g>\n<!-- C_buy -->\n<g id=\"node2\" class=\"node\">\n<title>C_buy</title>\n<g id=\"a_node2\"><a xlink:title=\"(7) C_buy\">\n<polygon fill=\"coral\" stroke=\"black\" points=\"54.94,-57.34 9.94,-57.34 9.94,-36.34 54.94,-36.34 54.94,-57.34\"/>\n<text text-anchor=\"middle\" x=\"32.44\" y=\"-43.14\" font-family=\"Times New Roman,serif\" font-size=\"14.00\">C_buy</text>\n</a>\n</g>\n</g>\n<!-- OG -->\n<g id=\"node3\" class=\"node\">\n<title>OG</title>\n<g id=\"a_node3\"><a xlink:title=\"(8) OG\">\n<polygon fill=\"coral\" stroke=\"black\" points=\"244.92,-27.02 216.92,-27.02 216.92,-6.02 244.92,-6.02 244.92,-27.02\"/>\n<text text-anchor=\"middle\" x=\"230.92\" y=\"-12.82\" font-family=\"Times New Roman,serif\" font-size=\"14.00\">OG</text>\n</a>\n</g>\n</g>\n<!-- Cap_bat -->\n<g id=\"node4\" class=\"node\">\n<title>Cap_bat</title>\n<g id=\"a_node4\"><a xlink:title=\"(4) Cap_bat\">\n<polygon fill=\"coral\" stroke=\"black\" points=\"340.32,-87.19 285.32,-87.19 285.32,-66.19 340.32,-66.19 340.32,-87.19\"/>\n<text text-anchor=\"middle\" x=\"312.82\" y=\"-72.99\" font-family=\"Times New Roman,serif\" font-size=\"14.00\">Cap_bat</text>\n</a>\n</g>\n</g>\n<!-- C_pv -->\n<g id=\"node5\" class=\"node\">\n<title>C_pv</title>\n<g id=\"a_node5\"><a xlink:title=\"(0) C_pv\">\n<polygon fill=\"coral\" stroke=\"black\" points=\"38,-117.24 0,-117.24 0,-96.24 38,-96.24 38,-117.24\"/>\n<text text-anchor=\"middle\" x=\"19\" y=\"-103.04\" font-family=\"Times New Roman,serif\" font-size=\"14.00\">C_pv</text>\n</a>\n</g>\n</g>\n<!-- TOTEX -->\n<g id=\"node6\" class=\"node\">\n<title>TOTEX</title>\n<g id=\"a_node6\"><a xlink:title=\"(2) TOTEX\">\n<polygon fill=\"coral\" stroke=\"black\" points=\"126.72,-162.6 73.72,-162.6 73.72,-141.6 126.72,-141.6 126.72,-162.6\"/>\n<text text-anchor=\"middle\" x=\"100.22\" y=\"-148.4\" font-family=\"Times New Roman,serif\" font-size=\"14.00\">TOTEX</text>\n</a>\n</g>\n</g>\n<!-- C_bat -->\n<g id=\"node7\" class=\"node\">\n<title>C_bat</title>\n<g id=\"a_node7\"><a xlink:title=\"(3) C_bat\">\n<polygon fill=\"coral\" stroke=\"black\" points=\"439.85,-99.64 398.85,-99.64 398.85,-78.64 439.85,-78.64 439.85,-99.64\"/>\n<text text-anchor=\"middle\" x=\"419.35\" y=\"-85.44\" font-family=\"Times New Roman,serif\" font-size=\"14.00\">C_bat</text>\n</a>\n</g>\n</g>\n<!-- Cap_pv -->\n<g id=\"node8\" class=\"node\">\n<title>Cap_pv</title>\n<g id=\"a_node8\"><a xlink:title=\"(6) Cap_pv\">\n<polygon fill=\"coral\" stroke=\"black\" points=\"237.29,-135.43 185.29,-135.43 185.29,-114.43 237.29,-114.43 237.29,-135.43\"/>\n<text text-anchor=\"middle\" x=\"211.29\" y=\"-121.23\" font-family=\"Times New Roman,serif\" font-size=\"14.00\">Cap_pv</text>\n</a>\n</g>\n</g>\n<!-- Dem -->\n<g id=\"node9\" class=\"node\">\n<title>Dem</title>\n<g id=\"a_node9\"><a xlink:title=\"(5) Dem\">\n<polygon fill=\"coral\" stroke=\"black\" points=\"188.44,-236.78 155.44,-236.78 155.44,-215.78 188.44,-215.78 188.44,-236.78\"/>\n<text text-anchor=\"middle\" x=\"171.94\" y=\"-222.58\" font-family=\"Times New Roman,serif\" font-size=\"14.00\">Dem</text>\n</a>\n</g>\n</g>\n<!-- f1#7 -->\n<g id=\"node10\" class=\"node\">\n<title>f1#7</title>\n<ellipse fill=\"burlywood\" stroke=\"black\" cx=\"82.28\" cy=\"-6.56\" rx=\"3.6\" ry=\"3.6\"/>\n</g>\n<!-- f1#7&#45;&#45;CAPEX -->\n<g id=\"edge1\" class=\"edge\">\n<title>f1#7--CAPEX</title>\n<path fill=\"none\" stroke=\"#4a4a4a\" d=\"M85.14,-9.06C90.83,-14.03 103.84,-25.4 113.65,-33.96\"/>\n</g>\n<!-- f1#7&#45;&#45;C_buy -->\n<g id=\"edge2\" class=\"edge\">\n<title>f1#7--C_buy</title>\n<path fill=\"none\" stroke=\"#4a4a4a\" d=\"M79.31,-8.96C72.86,-14.18 57.2,-26.83 45.76,-36.08\"/>\n</g>\n<!-- f1#6 -->\n<g id=\"node11\" class=\"node\">\n<title>f1#6</title>\n<ellipse fill=\"burlywood\" stroke=\"black\" cx=\"172.78\" cy=\"-78.57\" rx=\"3.6\" ry=\"3.6\"/>\n</g>\n<!-- f1#6&#45;&#45;CAPEX -->\n<g id=\"edge3\" class=\"edge\">\n<title>f1#6--CAPEX</title>\n<path fill=\"none\" stroke=\"#4a4a4a\" d=\"M169.71,-76.34C163.92,-72.16 151.07,-62.87 140.78,-55.42\"/>\n</g>\n<!-- f1#6&#45;&#45;Cap_pv -->\n<g id=\"edge4\" class=\"edge\">\n<title>f1#6--Cap_pv</title>\n<path fill=\"none\" stroke=\"#4a4a4a\" d=\"M175.31,-81.61C180.73,-88.14 193.7,-103.75 202.49,-114.33\"/>\n</g>\n<!-- f1#8 -->\n<g id=\"node12\" class=\"node\">\n<title>f1#8</title>\n<ellipse fill=\"burlywood\" stroke=\"black\" cx=\"171.59\" cy=\"-3.6\" rx=\"3.6\" ry=\"3.6\"/>\n</g>\n<!-- f1#8&#45;&#45;CAPEX -->\n<g id=\"edge6\" class=\"edge\">\n<title>f1#8--CAPEX</title>\n<path fill=\"none\" stroke=\"#4a4a4a\" d=\"M168.87,-6.05C162.88,-11.43 148.23,-24.59 137.7,-34.05\"/>\n</g>\n<!-- f1#8&#45;&#45;OG -->\n<g id=\"edge5\" class=\"edge\">\n<title>f1#8--OG</title>\n<path fill=\"none\" stroke=\"#4a4a4a\" d=\"M175.13,-4.37C183.16,-6.12 203.16,-10.47 216.89,-13.47\"/>\n</g>\n<!-- f2#7 -->\n<g id=\"node13\" class=\"node\">\n<title>f2#7</title>\n<ellipse fill=\"burlywood\" stroke=\"black\" cx=\"52.23\" cy=\"-113.79\" rx=\"3.6\" ry=\"3.6\"/>\n</g>\n<!-- f2#7&#45;&#45;C_buy -->\n<g id=\"edge8\" class=\"edge\">\n<title>f2#7--C_buy</title>\n<path fill=\"none\" stroke=\"#4a4a4a\" d=\"M51.16,-110.2C48.26,-100.36 40.1,-72.77 35.57,-57.44\"/>\n</g>\n<!-- f2#7&#45;&#45;TOTEX -->\n<g id=\"edge7\" class=\"edge\">\n<title>f2#7--TOTEX</title>\n<path fill=\"none\" stroke=\"#4a4a4a\" d=\"M55.08,-116.08C61.22,-120.97 75.98,-132.76 86.96,-141.52\"/>\n</g>\n<!-- f2#5 -->\n<g id=\"node14\" class=\"node\">\n<title>f2#5</title>\n<ellipse fill=\"burlywood\" stroke=\"black\" cx=\"113.32\" cy=\"-210.91\" rx=\"3.6\" ry=\"3.6\"/>\n</g>\n<!-- f2#5&#45;&#45;TOTEX -->\n<g id=\"edge9\" class=\"edge\">\n<title>f2#5--TOTEX</title>\n<path fill=\"none\" stroke=\"#4a4a4a\" d=\"M112.47,-207.05C110.48,-198.16 105.54,-175.97 102.57,-162.67\"/>\n</g>\n<!-- f2#5&#45;&#45;Dem -->\n<g id=\"edge10\" class=\"edge\">\n<title>f2#5--Dem</title>\n<path fill=\"none\" stroke=\"#4a4a4a\" d=\"M116.82,-211.83C124.21,-213.77 141.86,-218.39 155.22,-221.89\"/>\n</g>\n<!-- f5#6 -->\n<g id=\"node15\" class=\"node\">\n<title>f5#6</title>\n<ellipse fill=\"burlywood\" stroke=\"black\" cx=\"217.4\" cy=\"-186.52\" rx=\"3.6\" ry=\"3.6\"/>\n</g>\n<!-- f5#6&#45;&#45;Cap_pv -->\n<g id=\"edge12\" class=\"edge\">\n<title>f5#6--Cap_pv</title>\n<path fill=\"none\" stroke=\"#4a4a4a\" d=\"M217.04,-182.85C216.13,-173.74 213.75,-149.78 212.36,-135.69\"/>\n</g>\n<!-- f5#6&#45;&#45;Dem -->\n<g id=\"edge11\" class=\"edge\">\n<title>f5#6--Dem</title>\n<path fill=\"none\" stroke=\"#4a4a4a\" d=\"M214.42,-189.13C208.42,-194.38 194.56,-206.49 184.3,-215.47\"/>\n</g>\n<!-- f3#4 -->\n<g id=\"node16\" class=\"node\">\n<title>f3#4</title>\n<ellipse fill=\"burlywood\" stroke=\"black\" cx=\"367.56\" cy=\"-82.81\" rx=\"3.6\" ry=\"3.6\"/>\n</g>\n<!-- f3#4&#45;&#45;Cap_bat -->\n<g id=\"edge14\" class=\"edge\">\n<title>f3#4--Cap_bat</title>\n<path fill=\"none\" stroke=\"#4a4a4a\" d=\"M363.97,-82.4C359.07,-81.86 349.83,-80.83 340.54,-79.79\"/>\n</g>\n<!-- f3#4&#45;&#45;C_bat -->\n<g id=\"edge13\" class=\"edge\">\n<title>f3#4--C_bat</title>\n<path fill=\"none\" stroke=\"#4a4a4a\" d=\"M371.29,-83.26C377.04,-83.97 388.49,-85.37 398.78,-86.63\"/>\n</g>\n<!-- f0#1 -->\n<g id=\"node17\" class=\"node\">\n<title>f0#1</title>\n<ellipse fill=\"burlywood\" stroke=\"black\" cx=\"67.27\" cy=\"-56.51\" rx=\"3.6\" ry=\"3.6\"/>\n</g>\n<!-- f0#1&#45;&#45;CAPEX -->\n<g id=\"edge16\" class=\"edge\">\n<title>f0#1--CAPEX</title>\n<path fill=\"none\" stroke=\"#4a4a4a\" d=\"M71.11,-55.74C76.97,-54.55 88.62,-52.2 99.68,-49.96\"/>\n</g>\n<!-- f0#1&#45;&#45;C_pv -->\n<g id=\"edge15\" class=\"edge\">\n<title>f0#1--C_pv</title>\n<path fill=\"none\" stroke=\"#4a4a4a\" d=\"M64.67,-59.21C58.09,-66.06 40.48,-84.39 29.15,-96.18\"/>\n</g>\n<!-- f1#2 -->\n<g id=\"node18\" class=\"node\">\n<title>f1#2</title>\n<ellipse fill=\"burlywood\" stroke=\"black\" cx=\"110.05\" cy=\"-98.63\" rx=\"3.6\" ry=\"3.6\"/>\n</g>\n<!-- f1#2&#45;&#45;CAPEX -->\n<g id=\"edge17\" class=\"edge\">\n<title>f1#2--CAPEX</title>\n<path fill=\"none\" stroke=\"#4a4a4a\" d=\"M111.09,-95.09C113.43,-87.12 119.19,-67.5 122.8,-55.21\"/>\n</g>\n<!-- f1#2&#45;&#45;TOTEX -->\n<g id=\"edge18\" class=\"edge\">\n<title>f1#2--TOTEX</title>\n<path fill=\"none\" stroke=\"#4a4a4a\" d=\"M109.34,-102.48C107.86,-110.53 104.4,-129.38 102.19,-141.4\"/>\n</g>\n<!-- f4#8 -->\n<g id=\"node19\" class=\"node\">\n<title>f4#8</title>\n<ellipse fill=\"burlywood\" stroke=\"black\" cx=\"289.66\" cy=\"-18.77\" rx=\"3.6\" ry=\"3.6\"/>\n</g>\n<!-- f4#8&#45;&#45;OG -->\n<g id=\"edge19\" class=\"edge\">\n<title>f4#8--OG</title>\n<path fill=\"none\" stroke=\"#4a4a4a\" d=\"M285.81,-18.63C277.69,-18.31 258.48,-17.58 245.09,-17.07\"/>\n</g>\n<!-- f4#8&#45;&#45;Cap_bat -->\n<g id=\"edge20\" class=\"edge\">\n<title>f4#8--Cap_bat</title>\n<path fill=\"none\" stroke=\"#4a4a4a\" d=\"M291.04,-22.22C294.43,-30.7 303.28,-52.82 308.59,-66.12\"/>\n</g>\n<!-- f6#8 -->\n<g id=\"node20\" class=\"node\">\n<title>f6#8</title>\n<ellipse fill=\"burlywood\" stroke=\"black\" cx=\"233.13\" cy=\"-73.82\" rx=\"3.6\" ry=\"3.6\"/>\n</g>\n<!-- f6#8&#45;&#45;OG -->\n<g id=\"edge21\" class=\"edge\">\n<title>f6#8--OG</title>\n<path fill=\"none\" stroke=\"#4a4a4a\" d=\"M232.98,-70.06C232.65,-61.5 231.83,-40.27 231.33,-27.27\"/>\n</g>\n<!-- f6#8&#45;&#45;Cap_pv -->\n<g id=\"edge22\" class=\"edge\">\n<title>f6#8--Cap_pv</title>\n<path fill=\"none\" stroke=\"#4a4a4a\" d=\"M231.69,-77.18C228.54,-84.55 220.9,-102.44 215.91,-114.1\"/>\n</g>\n<!-- f4#6 -->\n<g id=\"node21\" class=\"node\">\n<title>f4#6</title>\n<ellipse fill=\"burlywood\" stroke=\"black\" cx=\"271.83\" cy=\"-122.24\" rx=\"3.6\" ry=\"3.6\"/>\n</g>\n<!-- f4#6&#45;&#45;Cap_bat -->\n<g id=\"edge23\" class=\"edge\">\n<title>f4#6--Cap_bat</title>\n<path fill=\"none\" stroke=\"#4a4a4a\" d=\"M274.27,-119.53C279.86,-113.32 293.81,-97.82 303.31,-87.27\"/>\n</g>\n<!-- f4#6&#45;&#45;Cap_pv -->\n<g id=\"edge24\" class=\"edge\">\n<title>f4#6--Cap_pv</title>\n<path fill=\"none\" stroke=\"#4a4a4a\" d=\"M268.23,-122.4C262.17,-122.67 249.44,-123.23 237.55,-123.76\"/>\n</g>\n<!-- f0#2 -->\n<g id=\"node22\" class=\"node\">\n<title>f0#2</title>\n<ellipse fill=\"burlywood\" stroke=\"black\" cx=\"44.46\" cy=\"-165.35\" rx=\"3.6\" ry=\"3.6\"/>\n</g>\n<!-- f0#2&#45;&#45;C_pv -->\n<g id=\"edge25\" class=\"edge\">\n<title>f0#2--C_pv</title>\n<path fill=\"none\" stroke=\"#4a4a4a\" d=\"M42.94,-161.86C39.21,-153.28 29.49,-130.9 23.65,-117.44\"/>\n</g>\n<!-- f0#2&#45;&#45;TOTEX -->\n<g id=\"edge26\" class=\"edge\">\n<title>f0#2--TOTEX</title>\n<path fill=\"none\" stroke=\"#4a4a4a\" d=\"M48.11,-164.48C53.4,-163.22 63.63,-160.79 73.63,-158.42\"/>\n</g>\n<!-- f2#6 -->\n<g id=\"node23\" class=\"node\">\n<title>f2#6</title>\n<ellipse fill=\"burlywood\" stroke=\"black\" cx=\"160.26\" cy=\"-150.92\" rx=\"3.6\" ry=\"3.6\"/>\n</g>\n<!-- f2#6&#45;&#45;TOTEX -->\n<g id=\"edge27\" class=\"edge\">\n<title>f2#6--TOTEX</title>\n<path fill=\"none\" stroke=\"#4a4a4a\" d=\"M156.32,-151C150.27,-151.12 138.18,-151.36 126.77,-151.58\"/>\n</g>\n<!-- f2#6&#45;&#45;Cap_pv -->\n<g id=\"edge28\" class=\"edge\">\n<title>f2#6--Cap_pv</title>\n<path fill=\"none\" stroke=\"#4a4a4a\" d=\"M163.61,-149.21C169.02,-146.46 180.1,-140.81 190.22,-135.66\"/>\n</g>\n</g>\n</svg>"
     },
     "execution_count": 5,
     "metadata": {},
     "output_type": "execute_result"
    }
   ],
   "source": [
    "bnOut =gum.fastMN(\"C_pv-CAPEX;C_pv-TOTEX;C_bat-Cap_bat;Dem-Cap_pv;Dem-TOTEX;C_buy-TOTEX;C_buy-CAPEX;Cap_pv-Cap_bat;Cap_pv-OG;Cap_bat-OG;OG-CAPEX;CAPEX-Cap_pv;CAPEX-TOTEX;TOTEX-Cap_pv\")\n",
    "bnOut"
   ],
   "metadata": {
    "collapsed": false,
    "pycharm": {
     "name": "#%% ES-House\n"
    }
   }
  },
  {
   "cell_type": "code",
   "execution_count": 6,
   "outputs": [
    {
     "data": {
      "text/plain": "(gum::MarkovNet<double>@0000015AD510FC00) MN{nodes: 9, edges: 15, domainSize: 512, dim: 60}",
      "text/html": "<svg xmlns=\"http://www.w3.org/2000/svg\" xmlns:xlink=\"http://www.w3.org/1999/xlink\" width=\"306pt\" height=\"262pt\" viewBox=\"0.00 0.00 305.99 261.88\">\n<g id=\"graph0\" class=\"graph\" transform=\"scale(1 1) rotate(0) translate(4 257.88)\">\n<title>G</title>\n<!-- CAPEX -->\n<g id=\"node1\" class=\"node\">\n<title>CAPEX</title>\n<g id=\"a_node1\"><a xlink:title=\"(1) CAPEX\">\n<polygon fill=\"coral\" stroke=\"black\" points=\"147.15,-133.78 95.15,-133.78 95.15,-112.78 147.15,-112.78 147.15,-133.78\"/>\n<text text-anchor=\"middle\" x=\"121.15\" y=\"-119.58\" font-family=\"Times New Roman,serif\" font-size=\"14.00\">CAPEX</text>\n</a>\n</g>\n</g>\n<!-- C_buy -->\n<g id=\"node2\" class=\"node\">\n<title>C_buy</title>\n<g id=\"a_node2\"><a xlink:title=\"(7) C_buy\">\n<polygon fill=\"coral\" stroke=\"black\" points=\"68.52,-25.13 23.52,-25.13 23.52,-4.13 68.52,-4.13 68.52,-25.13\"/>\n<text text-anchor=\"middle\" x=\"46.02\" y=\"-10.93\" font-family=\"Times New Roman,serif\" font-size=\"14.00\">C_buy</text>\n</a>\n</g>\n</g>\n<!-- OG -->\n<g id=\"node3\" class=\"node\">\n<title>OG</title>\n<g id=\"a_node3\"><a xlink:title=\"(8) OG\">\n<polygon fill=\"coral\" stroke=\"black\" points=\"179.45,-51.18 151.45,-51.18 151.45,-30.18 179.45,-30.18 179.45,-51.18\"/>\n<text text-anchor=\"middle\" x=\"165.45\" y=\"-36.98\" font-family=\"Times New Roman,serif\" font-size=\"14.00\">OG</text>\n</a>\n</g>\n</g>\n<!-- Cap_bat -->\n<g id=\"node4\" class=\"node\">\n<title>Cap_bat</title>\n<g id=\"a_node4\"><a xlink:title=\"(4) Cap_bat\">\n<polygon fill=\"coral\" stroke=\"black\" points=\"285,-93.05 230,-93.05 230,-72.05 285,-72.05 285,-93.05\"/>\n<text text-anchor=\"middle\" x=\"257.5\" y=\"-78.85\" font-family=\"Times New Roman,serif\" font-size=\"14.00\">Cap_bat</text>\n</a>\n</g>\n</g>\n<!-- C_pv -->\n<g id=\"node5\" class=\"node\">\n<title>C_pv</title>\n<g id=\"a_node5\"><a xlink:title=\"(0) C_pv\">\n<polygon fill=\"coral\" stroke=\"black\" points=\"207.95,-253.88 169.95,-253.88 169.95,-232.88 207.95,-232.88 207.95,-253.88\"/>\n<text text-anchor=\"middle\" x=\"188.95\" y=\"-239.68\" font-family=\"Times New Roman,serif\" font-size=\"14.00\">C_pv</text>\n</a>\n</g>\n</g>\n<!-- TOTEX -->\n<g id=\"node6\" class=\"node\">\n<title>TOTEX</title>\n<g id=\"a_node6\"><a xlink:title=\"(6) TOTEX\">\n<polygon fill=\"coral\" stroke=\"black\" points=\"53,-143.13 0,-143.13 0,-122.13 53,-122.13 53,-143.13\"/>\n<text text-anchor=\"middle\" x=\"26.5\" y=\"-128.93\" font-family=\"Times New Roman,serif\" font-size=\"14.00\">TOTEX</text>\n</a>\n</g>\n</g>\n<!-- C_bat -->\n<g id=\"node7\" class=\"node\">\n<title>C_bat</title>\n<g id=\"a_node7\"><a xlink:title=\"(3) C_bat\">\n<polygon fill=\"coral\" stroke=\"black\" points=\"229.34,-22.13 188.34,-22.13 188.34,-1.13 229.34,-1.13 229.34,-22.13\"/>\n<text text-anchor=\"middle\" x=\"208.84\" y=\"-7.93\" font-family=\"Times New Roman,serif\" font-size=\"14.00\">C_bat</text>\n</a>\n</g>\n</g>\n<!-- Cap_pv -->\n<g id=\"node8\" class=\"node\">\n<title>Cap_pv</title>\n<g id=\"a_node8\"><a xlink:title=\"(2) Cap_pv\">\n<polygon fill=\"coral\" stroke=\"black\" points=\"273.33,-170.34 221.33,-170.34 221.33,-149.34 273.33,-149.34 273.33,-170.34\"/>\n<text text-anchor=\"middle\" x=\"247.33\" y=\"-156.14\" font-family=\"Times New Roman,serif\" font-size=\"14.00\">Cap_pv</text>\n</a>\n</g>\n</g>\n<!-- Dem -->\n<g id=\"node9\" class=\"node\">\n<title>Dem</title>\n<g id=\"a_node9\"><a xlink:title=\"(5) Dem\">\n<polygon fill=\"coral\" stroke=\"black\" points=\"171.14,-180.9 138.14,-180.9 138.14,-159.9 171.14,-159.9 171.14,-180.9\"/>\n<text text-anchor=\"middle\" x=\"154.64\" y=\"-166.7\" font-family=\"Times New Roman,serif\" font-size=\"14.00\">Dem</text>\n</a>\n</g>\n</g>\n<!-- f1#5 -->\n<g id=\"node10\" class=\"node\">\n<title>f1#5</title>\n<ellipse fill=\"burlywood\" stroke=\"black\" cx=\"112.82\" cy=\"-166.96\" rx=\"3.6\" ry=\"3.6\"/>\n</g>\n<!-- f1#5&#45;&#45;CAPEX -->\n<g id=\"edge1\" class=\"edge\">\n<title>f1#5--CAPEX</title>\n<path fill=\"none\" stroke=\"#4a4a4a\" d=\"M113.53,-163.24C114.76,-156.8 117.32,-143.37 119.13,-133.86\"/>\n</g>\n<!-- f1#5&#45;&#45;Dem -->\n<g id=\"edge2\" class=\"edge\">\n<title>f1#5--Dem</title>\n<path fill=\"none\" stroke=\"#4a4a4a\" d=\"M116.68,-167.28C121.54,-167.68 130.18,-168.39 138,-169.03\"/>\n</g>\n<!-- f1#3 -->\n<g id=\"node11\" class=\"node\">\n<title>f1#3</title>\n<ellipse fill=\"burlywood\" stroke=\"black\" cx=\"161.16\" cy=\"-70.08\" rx=\"3.6\" ry=\"3.6\"/>\n</g>\n<!-- f1#3&#45;&#45;CAPEX -->\n<g id=\"edge3\" class=\"edge\">\n<title>f1#3--CAPEX</title>\n<path fill=\"none\" stroke=\"#4a4a4a\" d=\"M158.78,-73.24C153.06,-80.85 138.34,-100.42 129.1,-112.71\"/>\n</g>\n<!-- f1#3&#45;&#45;C_bat -->\n<g id=\"edge4\" class=\"edge\">\n<title>f1#3--C_bat</title>\n<path fill=\"none\" stroke=\"#4a4a4a\" d=\"M163.46,-67.26C170.01,-59.23 189,-35.95 200.23,-22.18\"/>\n</g>\n<!-- f7#8 -->\n<g id=\"node12\" class=\"node\">\n<title>f7#8</title>\n<ellipse fill=\"burlywood\" stroke=\"black\" cx=\"110.07\" cy=\"-3.6\" rx=\"3.6\" ry=\"3.6\"/>\n</g>\n<!-- f7#8&#45;&#45;C_buy -->\n<g id=\"edge6\" class=\"edge\">\n<title>f7#8--C_buy</title>\n<path fill=\"none\" stroke=\"#4a4a4a\" d=\"M106.25,-4.26C98.98,-5.51 82.63,-8.33 68.8,-10.71\"/>\n</g>\n<!-- f7#8&#45;&#45;OG -->\n<g id=\"edge5\" class=\"edge\">\n<title>f7#8--OG</title>\n<path fill=\"none\" stroke=\"#4a4a4a\" d=\"M113.37,-5.81C120.63,-10.67 138.38,-22.56 151.14,-31.1\"/>\n</g>\n<!-- f6#7 -->\n<g id=\"node13\" class=\"node\">\n<title>f6#7</title>\n<ellipse fill=\"burlywood\" stroke=\"black\" cx=\"10.63\" cy=\"-68.5\" rx=\"3.6\" ry=\"3.6\"/>\n</g>\n<!-- f6#7&#45;&#45;C_buy -->\n<g id=\"edge8\" class=\"edge\">\n<title>f6#7--C_buy</title>\n<path fill=\"none\" stroke=\"#4a4a4a\" d=\"M12.73,-65.29C17.79,-57.59 30.81,-37.78 38.99,-25.34\"/>\n</g>\n<!-- f6#7&#45;&#45;TOTEX -->\n<g id=\"edge7\" class=\"edge\">\n<title>f6#7--TOTEX</title>\n<path fill=\"none\" stroke=\"#4a4a4a\" d=\"M11.57,-72.32C13.95,-81.92 20.24,-107.33 23.85,-121.92\"/>\n</g>\n<!-- f4#5 -->\n<g id=\"node14\" class=\"node\">\n<title>f4#5</title>\n<ellipse fill=\"burlywood\" stroke=\"black\" cx=\"210.18\" cy=\"-130.65\" rx=\"3.6\" ry=\"3.6\"/>\n</g>\n<!-- f4#5&#45;&#45;Cap_bat -->\n<g id=\"edge9\" class=\"edge\">\n<title>f4#5--Cap_bat</title>\n<path fill=\"none\" stroke=\"#4a4a4a\" d=\"M212.72,-128.06C219.09,-121.58 236.03,-104.37 247.15,-93.07\"/>\n</g>\n<!-- f4#5&#45;&#45;Dem -->\n<g id=\"edge10\" class=\"edge\">\n<title>f4#5--Dem</title>\n<path fill=\"none\" stroke=\"#4a4a4a\" d=\"M207.19,-132.79C200.21,-137.79 182.42,-150.52 169.46,-159.79\"/>\n</g>\n<!-- f5#6 -->\n<g id=\"node15\" class=\"node\">\n<title>f5#6</title>\n<ellipse fill=\"burlywood\" stroke=\"black\" cx=\"75.4\" cy=\"-179.04\" rx=\"3.6\" ry=\"3.6\"/>\n</g>\n<!-- f5#6&#45;&#45;TOTEX -->\n<g id=\"edge12\" class=\"edge\">\n<title>f5#6--TOTEX</title>\n<path fill=\"none\" stroke=\"#4a4a4a\" d=\"M72.77,-176.55C66.26,-170.37 49.1,-154.09 37.61,-143.18\"/>\n</g>\n<!-- f5#6&#45;&#45;Dem -->\n<g id=\"edge11\" class=\"edge\">\n<title>f5#6--Dem</title>\n<path fill=\"none\" stroke=\"#4a4a4a\" d=\"M79.22,-178.62C89.67,-177.48 119.19,-174.27 138.05,-172.21\"/>\n</g>\n<!-- f2#5 -->\n<g id=\"node16\" class=\"node\">\n<title>f2#5</title>\n<ellipse fill=\"burlywood\" stroke=\"black\" cx=\"202.88\" cy=\"-195.77\" rx=\"3.6\" ry=\"3.6\"/>\n</g>\n<!-- f2#5&#45;&#45;Cap_pv -->\n<g id=\"edge13\" class=\"edge\">\n<title>f2#5--Cap_pv</title>\n<path fill=\"none\" stroke=\"#4a4a4a\" d=\"M205.8,-193.41C211.44,-188.86 224.15,-178.58 234.04,-170.58\"/>\n</g>\n<!-- f2#5&#45;&#45;Dem -->\n<g id=\"edge14\" class=\"edge\">\n<title>f2#5--Dem</title>\n<path fill=\"none\" stroke=\"#4a4a4a\" d=\"M199.41,-193.95C193.62,-190.9 181.63,-184.59 171.51,-179.27\"/>\n</g>\n<!-- f3#4 -->\n<g id=\"node17\" class=\"node\">\n<title>f3#4</title>\n<ellipse fill=\"burlywood\" stroke=\"black\" cx=\"271.62\" cy=\"-30.55\" rx=\"3.6\" ry=\"3.6\"/>\n</g>\n<!-- f3#4&#45;&#45;Cap_bat -->\n<g id=\"edge16\" class=\"edge\">\n<title>f3#4--Cap_bat</title>\n<path fill=\"none\" stroke=\"#4a4a4a\" d=\"M270.6,-34.29C268.5,-42.02 263.62,-60.02 260.44,-71.72\"/>\n</g>\n<!-- f3#4&#45;&#45;C_bat -->\n<g id=\"edge15\" class=\"edge\">\n<title>f3#4--C_bat</title>\n<path fill=\"none\" stroke=\"#4a4a4a\" d=\"M267.88,-29.43C260.43,-27.18 243.28,-22.01 229.37,-17.82\"/>\n</g>\n<!-- f0#1 -->\n<g id=\"node18\" class=\"node\">\n<title>f0#1</title>\n<ellipse fill=\"burlywood\" stroke=\"black\" cx=\"138.33\" cy=\"-201.3\" rx=\"3.6\" ry=\"3.6\"/>\n</g>\n<!-- f0#1&#45;&#45;CAPEX -->\n<g id=\"edge18\" class=\"edge\">\n<title>f0#1--CAPEX</title>\n<path fill=\"none\" stroke=\"#4a4a4a\" d=\"M137.5,-197.53C134.98,-186.09 127.34,-151.41 123.46,-133.79\"/>\n</g>\n<!-- f0#1&#45;&#45;C_pv -->\n<g id=\"edge17\" class=\"edge\">\n<title>f0#1--C_pv</title>\n<path fill=\"none\" stroke=\"#4a4a4a\" d=\"M141.34,-203.8C148.07,-209.39 164.63,-223.16 176.32,-232.88\"/>\n</g>\n<!-- f1#8 -->\n<g id=\"node19\" class=\"node\">\n<title>f1#8</title>\n<ellipse fill=\"burlywood\" stroke=\"black\" cx=\"118.82\" cy=\"-71.66\" rx=\"3.6\" ry=\"3.6\"/>\n</g>\n<!-- f1#8&#45;&#45;CAPEX -->\n<g id=\"edge20\" class=\"edge\">\n<title>f1#8--CAPEX</title>\n<path fill=\"none\" stroke=\"#4a4a4a\" d=\"M118.99,-75.37C119.33,-83.05 120.14,-100.91 120.66,-112.53\"/>\n</g>\n<!-- f1#8&#45;&#45;OG -->\n<g id=\"edge19\" class=\"edge\">\n<title>f1#8--OG</title>\n<path fill=\"none\" stroke=\"#4a4a4a\" d=\"M121.88,-69.63C127.72,-65.75 140.77,-57.08 151.08,-50.23\"/>\n</g>\n<!-- f1#6 -->\n<g id=\"node20\" class=\"node\">\n<title>f1#6</title>\n<ellipse fill=\"burlywood\" stroke=\"black\" cx=\"62.1\" cy=\"-117.85\" rx=\"3.6\" ry=\"3.6\"/>\n</g>\n<!-- f1#6&#45;&#45;CAPEX -->\n<g id=\"edge21\" class=\"edge\">\n<title>f1#6--CAPEX</title>\n<path fill=\"none\" stroke=\"#4a4a4a\" d=\"M65.98,-118.2C71.93,-118.75 83.82,-119.84 95.04,-120.88\"/>\n</g>\n<!-- f1#6&#45;&#45;TOTEX -->\n<g id=\"edge22\" class=\"edge\">\n<title>f1#6--TOTEX</title>\n<path fill=\"none\" stroke=\"#4a4a4a\" d=\"M58.56,-119.32C56.8,-120.05 54.51,-121 51.95,-122.06\"/>\n</g>\n<!-- f2#8 -->\n<g id=\"node21\" class=\"node\">\n<title>f2#8</title>\n<ellipse fill=\"burlywood\" stroke=\"black\" cx=\"213.09\" cy=\"-97.09\" rx=\"3.6\" ry=\"3.6\"/>\n</g>\n<!-- f2#8&#45;&#45;OG -->\n<g id=\"edge23\" class=\"edge\">\n<title>f2#8--OG</title>\n<path fill=\"none\" stroke=\"#4a4a4a\" d=\"M210.53,-94.05C203.88,-86.18 185.82,-64.8 174.68,-51.61\"/>\n</g>\n<!-- f2#8&#45;&#45;Cap_pv -->\n<g id=\"edge24\" class=\"edge\">\n<title>f2#8--Cap_pv</title>\n<path fill=\"none\" stroke=\"#4a4a4a\" d=\"M214.93,-100.46C219.87,-109.52 233.61,-134.69 241.52,-149.19\"/>\n</g>\n<!-- f2#4 -->\n<g id=\"node22\" class=\"node\">\n<title>f2#4</title>\n<ellipse fill=\"burlywood\" stroke=\"black\" cx=\"294.39\" cy=\"-127\" rx=\"3.6\" ry=\"3.6\"/>\n</g>\n<!-- f2#4&#45;&#45;Cap_bat -->\n<g id=\"edge26\" class=\"edge\">\n<title>f2#4--Cap_bat</title>\n<path fill=\"none\" stroke=\"#4a4a4a\" d=\"M291.97,-124.09C286.84,-117.9 274.66,-103.22 266.24,-93.08\"/>\n</g>\n<!-- f2#4&#45;&#45;Cap_pv -->\n<g id=\"edge25\" class=\"edge\">\n<title>f2#4--Cap_pv</title>\n<path fill=\"none\" stroke=\"#4a4a4a\" d=\"M291.31,-129.16C285.58,-133.15 272.96,-141.95 262.71,-149.11\"/>\n</g>\n<!-- f0#2 -->\n<g id=\"node23\" class=\"node\">\n<title>f0#2</title>\n<ellipse fill=\"burlywood\" stroke=\"black\" cx=\"249.31\" cy=\"-220.01\" rx=\"3.6\" ry=\"3.6\"/>\n</g>\n<!-- f0#2&#45;&#45;C_pv -->\n<g id=\"edge27\" class=\"edge\">\n<title>f0#2--C_pv</title>\n<path fill=\"none\" stroke=\"#4a4a4a\" d=\"M245.71,-221.4C238.45,-224.21 221.59,-230.74 208.12,-235.96\"/>\n</g>\n<!-- f0#2&#45;&#45;Cap_pv -->\n<g id=\"edge28\" class=\"edge\">\n<title>f0#2--Cap_pv</title>\n<path fill=\"none\" stroke=\"#4a4a4a\" d=\"M249.18,-216.06C248.88,-206.97 248.13,-184.26 247.69,-170.65\"/>\n</g>\n<!-- f4#8 -->\n<g id=\"node24\" class=\"node\">\n<title>f4#8</title>\n<ellipse fill=\"burlywood\" stroke=\"black\" cx=\"221.81\" cy=\"-33.4\" rx=\"3.6\" ry=\"3.6\"/>\n</g>\n<!-- f4#8&#45;&#45;OG -->\n<g id=\"edge29\" class=\"edge\">\n<title>f4#8--OG</title>\n<path fill=\"none\" stroke=\"#4a4a4a\" d=\"M218.11,-33.88C210.47,-34.86 192.59,-37.18 179.78,-38.83\"/>\n</g>\n<!-- f4#8&#45;&#45;Cap_bat -->\n<g id=\"edge30\" class=\"edge\">\n<title>f4#8--Cap_bat</title>\n<path fill=\"none\" stroke=\"#4a4a4a\" d=\"M223.94,-36.32C228.92,-43.19 241.55,-60.59 249.82,-71.97\"/>\n</g>\n</g>\n</svg>"
     },
     "execution_count": 6,
     "metadata": {},
     "output_type": "execute_result"
    }
   ],
   "source": [
    "bnTrue =gum.fastMN(\"C_pv-CAPEX;C_pv-Cap_pv;C_bat-Cap_bat;C_bat-CAPEX;Dem-Cap_pv;Dem-TOTEX;Dem-Cap_bat;Dem-CAPEX;C_buy-TOTEX;C_buy-OG;Cap_pv-Cap_bat;Cap_pv-OG;Cap_bat-OG;OG-CAPEX;CAPEX-TOTEX\")\n",
    "bnTrue"
   ],
   "metadata": {
    "collapsed": false,
    "pycharm": {
     "name": "#%% True Model?\n"
    }
   }
  },
  {
   "cell_type": "code",
   "execution_count": 9,
   "outputs": [
    {
     "data": {
      "text/plain": "True"
     },
     "execution_count": 9,
     "metadata": {},
     "output_type": "execute_result"
    }
   ],
   "source": [
    "bnOut.isIndependent(\"C_pv\",\"Cap_pv\",[\"CAPEX\",\"TOTEX\"])\n"
   ],
   "metadata": {
    "collapsed": false,
    "pycharm": {
     "name": "#%%\n"
    }
   }
  },
  {
   "cell_type": "code",
   "execution_count": 3,
   "outputs": [],
   "source": [
    "import Model\n",
    "import numpy as np\n",
    "# get settings for HouseModel\n",
    "settings = Model.getSettings()\n",
    "\n",
    "def get_model_matrix(settingsDict):\n",
    "    # Defined for t=24\n",
    "    t=24\n",
    "    #x= [Cap_PV, Cap_Bat, P_buy_t, P_PV_t, P_Bat_t, P_Bat_in_t, P_bat_out_t]\n",
    "    x=2+5*t\n",
    "    availability_pv=[0.1]*t\n",
    "    DemandVal= [0.314]*t\n",
    "    c = np.array([[t*settingsDict[\"cost_PV\"]/(settingsDict[\"lifetime\"]*8760)]+  [t*settingsDict[\"cost_Battery\"]/(settingsDict[\"lifetime\"]*8760)]+ [settingsDict[\"cost_buy\"]]*t])\n",
    "    i=0\n",
    "    A= np.zeros((8*t,x))\n",
    "    b=np.zeros(8*t)\n",
    "    # PV Lim : 2*t*Equations : P_PV_t - Avail*Cap_PV <=0 ; -P_PV_t<=0\n",
    "    for j in range(t):\n",
    "        A[i,0]=-availability_pv[j]\n",
    "        A[i,2+t+j]=1\n",
    "        A[i+1,2+t+j]=-1\n",
    "        i+=2\n",
    "    # Bat Lim EQ : t*Equations : P_Bat_t - Cap_Bat <=0; -P_Bat_t<=0\n",
    "    for j in range(t):\n",
    "        A[i,1]=-1\n",
    "        A[i,2+2*t+j]=1\n",
    "        A[i+1,2+2*t+j]=-1\n",
    "        i+=2\n",
    "    # Energy Balance : 2*t*Equations : P_bat_out_t - P_bat_in_t +P_PV_t+ P_Buy == Dem_t\n",
    "    for j in range(t):\n",
    "        A[i,2+j]=1 # P_buy_t\n",
    "        A[i,2+j+t]=1 # P_PV_t\n",
    "        A[i,2+j+3*t]=-1 # P_Bat_IN_t\n",
    "        A[i,2+j+4*t]=1 # P_Bat_Out_t\n",
    "        b[i]=DemandVal[j]\n",
    "        # Equation not InEquation\n",
    "        A[i+1,2+j]=-1 # P_buy_t\n",
    "        A[i+1,2+j+t]=-1 # P_PV_t\n",
    "        A[i+1,2+j+3*t]=1 # P_Bat_in_t\n",
    "        A[i+1,2+j+4*t]=-1 # P_Bat_out_t\n",
    "        b[i+1]=-DemandVal[j]\n",
    "        i+=2\n",
    "    # Battery EQ : 2t*Equations : P_bat_t == P_bat_t-1 + P_bat_in_t -P_bat_out_t\n",
    "    for j in range(t):\n",
    "        A[i,2+j+2*t]=-1 # P_bat_t\n",
    "        if j==0: # t=0 == t=T\n",
    "            A[i,2+j+3*t-1]=1 # P_Bat_t-1\n",
    "        else:\n",
    "            A[i,2+j+2*t-1]=1 # P_Bat_t-1\n",
    "        A[i,2+j+3*t]=1 # P_Bat_in_t\n",
    "        A[i,2+j+4*t]=-1 # P_Bat_out_t\n",
    "        #Equation not inEquation\n",
    "        A[i+1,2+j+2*t]=1 # P_bat_t\n",
    "        if j==0: # t=0 == t=T\n",
    "            A[i+1,2+j+3*t-1]=-1 # P_Bat_t-1\n",
    "        else:\n",
    "            A[i+1,2+j+2*t-1]=-1 # P_Bat_t-1\n",
    "        A[i+1,2+j+3*t]=-1 # P_Bat_in_t\n",
    "        A[i+1,2+j+4*t]=1 # P_Bat_out_t\n",
    "        i+=2\n",
    "\n",
    "    return c, A\n",
    "c, A= get_model_matrix(settings)\n",
    "np.savetxt(\"A.csv\",A,delimiter=\",\")"
   ],
   "metadata": {
    "collapsed": false,
    "pycharm": {
     "name": "#%% Model Matrix\n"
    }
   }
  }
 ],
 "metadata": {
  "kernelspec": {
   "display_name": "Python 3",
   "language": "python",
   "name": "python3"
  },
  "language_info": {
   "codemirror_mode": {
    "name": "ipython",
    "version": 2
   },
   "file_extension": ".py",
   "mimetype": "text/x-python",
   "name": "python",
   "nbconvert_exporter": "python",
   "pygments_lexer": "ipython2",
   "version": "2.7.6"
  }
 },
 "nbformat": 4,
 "nbformat_minor": 0
}